{
 "cells": [
  {
   "cell_type": "code",
   "execution_count": 1,
   "id": "47f15325",
   "metadata": {},
   "outputs": [],
   "source": [
    "import numpy as np\n",
    "import matplotlib.pyplot as plt\n",
    "from scipy.integrate import quad, simps\n",
    "from scipy.interpolate import interp1d"
   ]
  },
  {
   "cell_type": "markdown",
   "id": "2e785f05",
   "metadata": {},
   "source": [
    "CMB power spectrum"
   ]
  },
  {
   "cell_type": "code",
   "execution_count": 2,
   "id": "334081fe",
   "metadata": {},
   "outputs": [],
   "source": [
    "l, dltt, dlee, dlte = np.loadtxt(\"camb_19834798_scalcls.dat\", unpack=True)\n",
    "cltt = interp1d(l, dltt*2*np.pi/(l*(l+1)), bounds_error=False, fill_value=0)"
   ]
  },
  {
   "cell_type": "markdown",
   "id": "cb4585cb",
   "metadata": {},
   "source": [
    "Beam"
   ]
  },
  {
   "cell_type": "code",
   "execution_count": 3,
   "id": "815b70c2",
   "metadata": {},
   "outputs": [],
   "source": [
    "ell_th = np.arange(10000)\n",
    "theta_FWHM = np.radians(5./60)\n",
    "theta_sigma = theta_FWHM/2.355\n",
    "bl_th = np.exp(-0.5*theta_sigma**2*ell_th**2)\n",
    "bl = interp1d(ell_th, bl_th, bounds_error=False, fill_value=0)"
   ]
  },
  {
   "cell_type": "markdown",
   "id": "866ac7de",
   "metadata": {},
   "source": [
    "Filter"
   ]
  },
  {
   "cell_type": "code",
   "execution_count": 4,
   "id": "9028b20a",
   "metadata": {},
   "outputs": [],
   "source": [
    "Fl_th = np.load(\"pairwise/camb_data/Planck_filter_kSZ.npy\")\n",
    "ell = np.load(\"pairwise/camb_data/Planck_ell_kSZ.npy\")\n",
    "Fl_th = Fl_th / np.amax(Fl_th)\n",
    "Fl = interp1d(ell, Fl_th, bounds_error=False, fill_value=0)"
   ]
  },
  {
   "cell_type": "code",
   "execution_count": 5,
   "id": "568ebba4",
   "metadata": {},
   "outputs": [
    {
     "data": {
      "text/plain": [
       "[<matplotlib.lines.Line2D at 0x7fe96b36d490>]"
      ]
     },
     "execution_count": 5,
     "metadata": {},
     "output_type": "execute_result"
    },
    {
     "data": {
      "image/png": "[encoded data removed]",
      "text/plain": [
       "<Figure size 432x288 with 1 Axes>"
      ]
     },
     "metadata": {
      "needs_background": "light"
     },
     "output_type": "display_data"
    }
   ],
   "source": [
    "def fl(l):\n",
    "    return Fl(l)*bl(l)\n",
    "\n",
    "plt.plot(ell, fl(ell))"
   ]
  },
  {
   "cell_type": "markdown",
   "id": "bd2ae932",
   "metadata": {},
   "source": [
    "Inner integral"
   ]
  },
  {
   "cell_type": "code",
   "execution_count": 6,
   "id": "b96b40aa",
   "metadata": {},
   "outputs": [],
   "source": [
    "def integ_inner(l, L, nphi=64):\n",
    "    phi = np.linspace(0, 2*np.pi, nphi)\n",
    "    cphi = np.cos(phi)\n",
    "    l2 = l**2+L**2+2*l*L*cphi\n",
    "    l2[l2 <= 0] = 0\n",
    "    ll = np.sqrt(l2)\n",
    "    fll = fl(ll)\n",
    "    return simps(fll*cphi, x=phi)"
   ]
  },
  {
   "cell_type": "markdown",
   "id": "3b6b9364",
   "metadata": {},
   "source": [
    "Outer integral"
   ]
  },
  {
   "cell_type": "code",
   "execution_count": 7,
   "id": "6e2b43f5",
   "metadata": {
    "scrolled": false
   },
   "outputs": [],
   "source": [
    "def get_integ(nll, nphi=64, verbose=False):\n",
    "    ls = np.linspace(0, 10000, nll)\n",
    "\n",
    "    # Inner integral\n",
    "    int1 = np.zeros([nll, nll])\n",
    "    for i in range(nll):\n",
    "        if (i % 10 == 0) and verbose:\n",
    "            print(i)\n",
    "        for j in range(i, nll):\n",
    "            ii = integ_inner(ls[i], ls[j], nphi=nphi)\n",
    "            int1[i, j] = ii\n",
    "            int1[j, i] = ii\n",
    "    \n",
    "    # Outer integral\n",
    "    integ = simps((ls**2*fl(ls)*cltt(ls))[None, :]*int1, x=ls, axis=-1)\n",
    "    return ls, integ"
   ]
  },
  {
   "cell_type": "markdown",
   "id": "7927139e",
   "metadata": {},
   "source": [
    "1. Compute outer integral (different resolution choices)"
   ]
  },
  {
   "cell_type": "code",
   "execution_count": 8,
   "id": "b42bd8dc",
   "metadata": {
    "scrolled": false
   },
   "outputs": [],
   "source": [
    "ls1, I1 = get_integ(256)"
   ]
  },
  {
   "cell_type": "code",
   "execution_count": null,
   "id": "61297b60",
   "metadata": {},
   "outputs": [],
   "source": [
    "ls2, I2 = get_integ(512)"
   ]
  },
  {
   "cell_type": "code",
   "execution_count": null,
   "id": "9f2b733b",
   "metadata": {},
   "outputs": [],
   "source": [
    "ls3, I3 = get_integ(1024, nphi=32)"
   ]
  },
  {
   "cell_type": "code",
   "execution_count": 9,
   "id": "6ad30c53",
   "metadata": {},
   "outputs": [
    {
     "data": {
      "text/plain": [
       "[<matplotlib.lines.Line2D at 0x7fe96b26d880>]"
      ]
     },
     "execution_count": 9,
     "metadata": {},
     "output_type": "execute_result"
    },
    {
     "data": {
      "image/png": "[encoded data removed]",
      "text/plain": [
       "<Figure size 432x288 with 1 Axes>"
      ]
     },
     "metadata": {
      "needs_background": "light"
     },
     "output_type": "display_data"
    }
   ],
   "source": [
    "plt.plot(ls1, I1, 'k-')\n",
    "#plt.plot(ls2, I2, 'r--')\n",
    "#plt.plot(ls3, I3, 'y:')"
   ]
  },
  {
   "cell_type": "markdown",
   "id": "ccbaaaa7",
   "metadata": {},
   "source": [
    "2- Read cross-correlation power spectrum and fit a polynomial to it (in log-log)"
   ]
  },
  {
   "cell_type": "code",
   "execution_count": 10,
   "id": "37b84b6e",
   "metadata": {},
   "outputs": [],
   "source": [
    "import sacc"
   ]
  },
  {
   "cell_type": "code",
   "execution_count": 11,
   "id": "979c5e21",
   "metadata": {},
   "outputs": [],
   "source": [
    "s = sacc.Sacc.load_fits('../cls_cov_all.fits')\n",
    "l_s, cl_s, cov_s = s.get_ell_cl('cl_00', 'WISE', 'CMBk', return_cov=True)\n",
    "err_s = np.sqrt(np.diag(cov_s))\n",
    "err_s[0] = err_s[1]\n",
    "coeffs = np.polyfit(np.log(l_s[:-2]), np.log(cl_s[:-2]), w=1/err_s[:-2], deg=6)\n",
    "\n",
    "def cl_s_fit(ls):\n",
    "    poly = np.poly1d(coeffs)\n",
    "    goodl = ls > 0\n",
    "    cl_out = np.zeros(len(ls))\n",
    "    cl_out[goodl] = np.exp(poly(np.log(ls[goodl])))\n",
    "    return cl_out"
   ]
  },
  {
   "cell_type": "code",
   "execution_count": 12,
   "id": "24858ad2",
   "metadata": {},
   "outputs": [
    {
     "data": {
      "text/plain": [
       "[]"
      ]
     },
     "execution_count": 12,
     "metadata": {},
     "output_type": "execute_result"
    },
    {
     "data": {
      "image/png": "[encoded data removed]",
      "text/plain": [
       "<Figure size 432x288 with 1 Axes>"
      ]
     },
     "metadata": {
      "needs_background": "light"
     },
     "output_type": "display_data"
    }
   ],
   "source": [
    "plt.errorbar(l_s, cl_s, yerr=np.sqrt(np.diag(cov_s)))\n",
    "plt.plot(l_s, cl_s_fit(l_s), 'k-')\n",
    "plt.loglog()\n",
    "#plt.xlim([0, 2000])\n",
    "#plt.ylim([0, 2E-7])"
   ]
  },
  {
   "cell_type": "markdown",
   "id": "344bf602",
   "metadata": {},
   "source": [
    "3- Construct lensing template"
   ]
  },
  {
   "cell_type": "code",
   "execution_count": 13,
   "id": "fb5db6d3",
   "metadata": {},
   "outputs": [],
   "source": [
    "Dcl1 = -2*cl_s_fit(ls1)*I1/((2*np.pi)**2*0.5*(ls1+1))\n",
    "#Dcl2 = -2*cl_s_fit(ls2)*I2/((2*np.pi)*0.5*(ls2+1))\n",
    "#Dcl3 = -2*cl_s_fit(ls3)*I3/((2*np.pi)*0.5*(ls3+1))"
   ]
  },
  {
   "cell_type": "code",
   "execution_count": 14,
   "id": "dfc6a5bf",
   "metadata": {},
   "outputs": [
    {
     "data": {
      "text/plain": [
       "[<matplotlib.lines.Line2D at 0x7fe961659970>]"
      ]
     },
     "execution_count": 14,
     "metadata": {},
     "output_type": "execute_result"
    },
    {
     "data": {
      "image/png": "[encoded data removed]",
      "text/plain": [
       "<Figure size 432x288 with 1 Axes>"
      ]
     },
     "metadata": {
      "needs_background": "light"
     },
     "output_type": "display_data"
    }
   ],
   "source": [
    "plt.plot(ls1, ls1*(ls1+1)*Dcl1/(2*np.pi), 'k-')\n",
    "#plt.plot(ls2, ls2*(ls2+1)*Dcl2/(2*np.pi), 'r--')\n",
    "#plt.plot(ls3, ls3*(ls3+1)*Dcl3/(2*np.pi), 'y:')"
   ]
  },
  {
   "cell_type": "code",
   "execution_count": 15,
   "id": "e1bb8b30",
   "metadata": {},
   "outputs": [
    {
     "data": {
      "text/plain": [
       "(400.0, 2700.0)"
      ]
     },
     "execution_count": 15,
     "metadata": {},
     "output_type": "execute_result"
    },
    {
     "data": {
      "image/png": "[encoded data removed]",
      "text/plain": [
       "<Figure size 432x288 with 1 Axes>"
      ]
     },
     "metadata": {
      "needs_background": "light"
     },
     "output_type": "display_data"
    }
   ],
   "source": [
    "plt.plot(ls1, ls1*(ls1+1)*Dcl1/(2*np.pi), 'k-')\n",
    "#plt.plot(ls2, ls2*(ls2+1)*Dcl2/(2*np.pi), 'r--')\n",
    "#plt.plot(ls3, ls3*(ls3+1)*Dcl3/(2*np.pi), 'y:')\n",
    "plt.xlim([400, 2700])"
   ]
  },
  {
   "cell_type": "code",
   "execution_count": null,
   "id": "f4999d26",
   "metadata": {},
   "outputs": [],
   "source": []
  },
  {
   "cell_type": "code",
   "execution_count": null,
   "id": "05eadb43",
   "metadata": {},
   "outputs": [],
   "source": []
  }
 ],
 "metadata": {
  "kernelspec": {
   "display_name": "Python 3",
   "language": "python",
   "name": "python3"
  },
  "language_info": {
   "codemirror_mode": {
    "name": "ipython",
    "version": 3
   },
   "file_extension": ".py",
   "mimetype": "text/x-python",
   "name": "python",
   "nbconvert_exporter": "python",
   "pygments_lexer": "ipython3",
   "version": "3.8.10"
  }
 },
 "nbformat": 4,
 "nbformat_minor": 5
}
