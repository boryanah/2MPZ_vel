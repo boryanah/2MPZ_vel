{
 "cells": [
  {
   "cell_type": "code",
   "execution_count": 1,
   "id": "333afe50",
   "metadata": {},
   "outputs": [],
   "source": [
    "import numpy as np\n",
    "import matplotlib.pyplot as plt\n",
    "from scipy.integrate import quad, simps\n",
    "from scipy.interpolate import interp1d"
   ]
  },
  {
   "cell_type": "markdown",
   "id": "839ff5ea",
   "metadata": {},
   "source": [
    "CMB power spectrum"
   ]
  },
  {
   "cell_type": "code",
   "execution_count": 2,
   "id": "223f993b",
   "metadata": {},
   "outputs": [],
   "source": [
    "l, dltt, dlee, dlte, _, _ = np.loadtxt(\"pairwise/camb_data/camb_theory.dat\", unpack=True)\n",
    "cltt = interp1d(l, dltt*2*np.pi/(l*(l+1)), bounds_error=False, fill_value=0)"
   ]
  },
  {
   "cell_type": "markdown",
   "id": "10349b69",
   "metadata": {},
   "source": [
    "Beam"
   ]
  },
  {
   "cell_type": "code",
   "execution_count": 3,
   "id": "57cbdbe6",
   "metadata": {},
   "outputs": [],
   "source": [
    "ell_th = np.arange(10000)\n",
    "theta_FWHM = np.radians(5./60)\n",
    "theta_sigma = theta_FWHM/2.355\n",
    "bl_th = np.exp(-0.5*theta_sigma**2*ell_th**2)\n",
    "bl = interp1d(ell_th, bl_th, bounds_error=False, fill_value=0)"
   ]
  },
  {
   "cell_type": "markdown",
   "id": "f47298cb",
   "metadata": {},
   "source": [
    "Filter"
   ]
  },
  {
   "cell_type": "code",
   "execution_count": 4,
   "id": "2b343189",
   "metadata": {},
   "outputs": [],
   "source": [
    "Fl_th = np.load(\"pairwise/camb_data/Planck_filter_kSZ.npy\")\n",
    "ell = np.load(\"pairwise/camb_data/Planck_ell_kSZ.npy\")\n",
    "Fl = interp1d(ell, Fl_th, bounds_error=False, fill_value=0)"
   ]
  },
  {
   "cell_type": "code",
   "execution_count": 5,
   "id": "41fe25d0",
   "metadata": {},
   "outputs": [],
   "source": [
    "def fl(l):\n",
    "    return Fl(l)*bl(l)"
   ]
  },
  {
   "cell_type": "markdown",
   "id": "812c92b5",
   "metadata": {},
   "source": [
    "Inner integral"
   ]
  },
  {
   "cell_type": "code",
   "execution_count": 6,
   "id": "d909dc68",
   "metadata": {},
   "outputs": [],
   "source": [
    "def integ_inner(l, L, nphi=64):\n",
    "    phi = np.linspace(0, np.pi, nphi)\n",
    "    cphi = np.cos(phi)\n",
    "    l2 = l**2+L**2+2*l*L*cphi\n",
    "    l2[l2 <= 0] = 0\n",
    "    ll = np.sqrt(l2)\n",
    "    fll = fl(ll)\n",
    "    return simps(fll*cphi, x=phi)"
   ]
  },
  {
   "cell_type": "markdown",
   "id": "1ccb698a",
   "metadata": {},
   "source": [
    "Outer integral"
   ]
  },
  {
   "cell_type": "code",
   "execution_count": 7,
   "id": "e431d98e",
   "metadata": {
    "scrolled": false
   },
   "outputs": [],
   "source": [
    "def get_integ(nll, nphi=64, verbose=False):\n",
    "    ls = np.linspace(0, 10000, nll)\n",
    "\n",
    "    # Inner integral\n",
    "    int1 = np.zeros([nll, nll])\n",
    "    for i in range(nll):\n",
    "        if (i % 10 == 0) and verbose:\n",
    "            print(i)\n",
    "        for j in range(i, nll):\n",
    "            ii = integ_inner(ls[i], ls[j], nphi=nphi)\n",
    "            int1[i, j] = ii\n",
    "            int1[j, i] = ii\n",
    "    \n",
    "    # Outer integral\n",
    "    integ = simps((ls**2*fl(ls)*cltt(ls))[None, :]*int1, x=ls, axis=-1)\n",
    "    return ls, integ"
   ]
  },
  {
   "cell_type": "markdown",
   "id": "c248eaa0",
   "metadata": {},
   "source": [
    "1. Compute outer integral (different resolution choices)"
   ]
  },
  {
   "cell_type": "code",
   "execution_count": 8,
   "id": "30d3fdc6",
   "metadata": {
    "scrolled": false
   },
   "outputs": [],
   "source": [
    "ls1, I1 = get_integ(256)"
   ]
  },
  {
   "cell_type": "code",
   "execution_count": 9,
   "id": "aa9b46f0",
   "metadata": {},
   "outputs": [],
   "source": [
    "ls2, I2 = get_integ(512)"
   ]
  },
  {
   "cell_type": "code",
   "execution_count": 10,
   "id": "9781b2ee",
   "metadata": {},
   "outputs": [],
   "source": [
    "ls3, I3 = get_integ(1024, nphi=32)"
   ]
  },
  {
   "cell_type": "code",
   "execution_count": 11,
   "id": "6cf6497d",
   "metadata": {},
   "outputs": [
    {
     "data": {
      "text/plain": [
       "[<matplotlib.lines.Line2D at 0x7f7ea805af70>]"
      ]
     },
     "execution_count": 11,
     "metadata": {},
     "output_type": "execute_result"
    },
    {
     "data": {
      "image/png": "[encoded data removed]",
      "text/plain": [
       "<Figure size 432x288 with 1 Axes>"
      ]
     },
     "metadata": {
      "needs_background": "light"
     },
     "output_type": "display_data"
    }
   ],
   "source": [
    "plt.plot(ls1, I1, 'k-')\n",
    "plt.plot(ls2, I2, 'r--')\n",
    "plt.plot(ls3, I3, 'y:')"
   ]
  },
  {
   "cell_type": "markdown",
   "id": "154ac006",
   "metadata": {},
   "source": [
    "2- Read cross-correlation power spectrum and fit a polynomial to it (in log-log)"
   ]
  },
  {
   "cell_type": "code",
   "execution_count": 12,
   "id": "38dce7f3",
   "metadata": {},
   "outputs": [],
   "source": [
    "import sacc"
   ]
  },
  {
   "cell_type": "code",
   "execution_count": 13,
   "id": "c49ea6f6",
   "metadata": {},
   "outputs": [],
   "source": [
    "s = sacc.Sacc.load_fits('../cls_cov_all.fits')\n",
    "l_s, cl_s, cov_s = s.get_ell_cl('cl_00', 'WISE', 'CMBk', return_cov=True)\n",
    "err_s = np.sqrt(np.diag(cov_s))\n",
    "err_s[0] = err_s[1]\n",
    "coeffs = np.polyfit(np.log(l_s[:-10]), np.log(cl_s[:-10]), w=1/err_s[:-10], deg=6)\n",
    "\n",
    "def cl_s_fit(ls):\n",
    "    poly = np.poly1d(coeffs)\n",
    "    goodl = ls > 0\n",
    "    cl_out = np.zeros(len(ls))\n",
    "    cl_out[goodl] = np.exp(poly(np.log(ls[goodl])))\n",
    "    return cl_out"
   ]
  },
  {
   "cell_type": "code",
   "execution_count": 14,
   "id": "a9083ca4",
   "metadata": {},
   "outputs": [
    {
     "data": {
      "text/plain": [
       "[]"
      ]
     },
     "execution_count": 14,
     "metadata": {},
     "output_type": "execute_result"
    },
    {
     "data": {
      "image/png": "[encoded data removed]",
      "text/plain": [
       "<Figure size 432x288 with 1 Axes>"
      ]
     },
     "metadata": {
      "needs_background": "light"
     },
     "output_type": "display_data"
    }
   ],
   "source": [
    "plt.errorbar(l_s, cl_s, yerr=np.sqrt(np.diag(cov_s)))\n",
    "plt.plot(l_s, cl_s_fit(l_s), 'k-')\n",
    "plt.loglog()"
   ]
  },
  {
   "cell_type": "markdown",
   "id": "a973e724",
   "metadata": {},
   "source": [
    "3- Construct lensing template"
   ]
  },
  {
   "cell_type": "code",
   "execution_count": 18,
   "id": "29a99ab5",
   "metadata": {},
   "outputs": [],
   "source": [
    "Dcl1 = -2*cl_s_fit(ls1)*I1/((2*np.pi)*0.5*(ls1+1))\n",
    "Dcl2 = -2*cl_s_fit(ls2)*I2/((2*np.pi)*0.5*(ls2+1))\n",
    "Dcl3 = -2*cl_s_fit(ls3)*I3/((2*np.pi)*0.5*(ls3+1))"
   ]
  },
  {
   "cell_type": "code",
   "execution_count": 19,
   "id": "a0389b35",
   "metadata": {},
   "outputs": [
    {
     "data": {
      "text/plain": [
       "[<matplotlib.lines.Line2D at 0x7f7e9e98a6a0>]"
      ]
     },
     "execution_count": 19,
     "metadata": {},
     "output_type": "execute_result"
    },
    {
     "data": {
      "image/png": "[encoded data removed]",
      "text/plain": [
       "<Figure size 432x288 with 1 Axes>"
      ]
     },
     "metadata": {
      "needs_background": "light"
     },
     "output_type": "display_data"
    }
   ],
   "source": [
    "plt.plot(ls1, ls1*(ls1+1)*Dcl1/(2*np.pi), 'k-')\n",
    "plt.plot(ls2, ls2*(ls2+1)*Dcl2/(2*np.pi), 'r--')\n",
    "plt.plot(ls3, ls3*(ls3+1)*Dcl3/(2*np.pi), 'y:')"
   ]
  },
  {
   "cell_type": "code",
   "execution_count": 20,
   "id": "5d55b18e",
   "metadata": {},
   "outputs": [
    {
     "data": {
      "text/plain": [
       "(400.0, 2700.0)"
      ]
     },
     "execution_count": 20,
     "metadata": {},
     "output_type": "execute_result"
    },
    {
     "data": {
      "image/png": "[encoded data removed]",
      "text/plain": [
       "<Figure size 432x288 with 1 Axes>"
      ]
     },
     "metadata": {
      "needs_background": "light"
     },
     "output_type": "display_data"
    }
   ],
   "source": [
    "plt.plot(ls1, ls1*(ls1+1)*Dcl1/(2*np.pi), 'k-')\n",
    "plt.plot(ls2, ls2*(ls2+1)*Dcl2/(2*np.pi), 'r--')\n",
    "plt.plot(ls3, ls3*(ls3+1)*Dcl3/(2*np.pi), 'y:')\n",
    "plt.xlim([400, 2700])"
   ]
  },
  {
   "cell_type": "code",
   "execution_count": null,
   "id": "ff4c9610",
   "metadata": {},
   "outputs": [],
   "source": []
  }
 ],
 "metadata": {
  "kernelspec": {
   "display_name": "Python 3",
   "language": "python",
   "name": "python3"
  },
  "language_info": {
   "codemirror_mode": {
    "name": "ipython",
    "version": 3
   },
   "file_extension": ".py",
   "mimetype": "text/x-python",
   "name": "python",
   "nbconvert_exporter": "python",
   "pygments_lexer": "ipython3",
   "version": "3.8.10"
  }
 },
 "nbformat": 4,
 "nbformat_minor": 5
}
